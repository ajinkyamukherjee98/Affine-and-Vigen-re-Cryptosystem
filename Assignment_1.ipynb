{
  "nbformat": 4,
  "nbformat_minor": 0,
  "metadata": {
    "colab": {
      "name": "Assignment_1.ipynb",
      "provenance": [],
      "collapsed_sections": [],
      "authorship_tag": "ABX9TyMGGzItOS+jc18+mxHuVgiI",
      "include_colab_link": true
    },
    "kernelspec": {
      "name": "python3",
      "display_name": "Python 3"
    },
    "language_info": {
      "name": "python"
    }
  },
  "cells": [
    {
      "cell_type": "markdown",
      "metadata": {
        "id": "view-in-github",
        "colab_type": "text"
      },
      "source": [
        "<a href=\"https://colab.research.google.com/github/ajinkyamukherjee98/Affine-and-Vigen-re-Cryptosystem/blob/main/Assignment_1.ipynb\" target=\"_parent\"><img src=\"https://colab.research.google.com/assets/colab-badge.svg\" alt=\"Open In Colab\"/></a>"
      ]
    },
    {
      "cell_type": "code",
      "execution_count": 46,
      "metadata": {
        "id": "M5gRzmqcx814"
      },
      "outputs": [],
      "source": [
        "# Description:  Calculate Linear regression using Python\n",
        "#               - Mean (sample and population)\n",
        "#               - Calculate the Adjusted Mean \n",
        "#               - Standard Deviation\n",
        "#               - Variance\n",
        "#               - CoVariance Matrix\n",
        "#\n",
        "# Author: Ajinkya Mukherjee\n",
        "# Date: 2/15/2022\n",
        "#\n",
        "# -    -    -    -    -    -    -    -    -    -    -    -    -    \n",
        "# Revision History\n",
        "# Name      Date        Description\n",
        "# scl      2/15/2022    File Created with basic imports\n",
        "# scl      2/15/2022    Add all functions needed for Assignment 1\n",
        "# scl      2/16/2022    Added funcMean and funcAdjacentMean and adjcM\n",
        "# scl      2/17/2022    Added predict function\n",
        "# scl      2/17/2022    Creating Global Variables: To call and store function values\n",
        "# scl      2/18/2022    Making Changes to the way data is imported and commenting old code out for future reference\n",
        "# scl      2/18/2022    Giving Up! \n",
        "#\n",
        "# -    -    -    -    -    -    -    -    -    -    -    -    -    "
      ]
    },
    {
      "cell_type": "code",
      "source": [
        "# Varius Imported Libraries\n",
        "import matplotlib.pyplot as plt\n",
        "import seaborn as sns\n",
        "import pandas as pd \n",
        "import numpy as np\n",
        "import math as mth"
      ],
      "metadata": {
        "id": "MB96QZ4EyKfB"
      },
      "execution_count": 47,
      "outputs": []
    },
    {
      "cell_type": "code",
      "source": [
        "# Functions used for assignement 1\n",
        "\n",
        "# Predicting How Happy a Country is:\n",
        "# Life Satification Going up is equivalent to being More Happy\n",
        "def funcPredict(c,m,x):\n",
        "  prediction = []\n",
        "  for i in range(0,len(x)):\n",
        "    prediction.append(c + (m*x.iloc[i]))\n",
        "  return prediction\n",
        "\n",
        "\n",
        "\n",
        "\n"
      ],
      "metadata": {
        "id": "1ObUKkb-yes8"
      },
      "execution_count": 48,
      "outputs": []
    },
    {
      "cell_type": "code",
      "source": [
        "\n",
        "data = pd.read_csv('LifeExpectancyData.csv')\n",
        "\n",
        "#data = data.dropna() # dropping all the n\n",
        "\n",
        "#data.describe() # \n",
        "\n",
        "b0 = 4.85\n",
        "b1 = 4.91 *(10**-5)\n",
        "\n",
        "print(data.columns)\n",
        "\n",
        "\n",
        "# Algorithm to Filter Data\n",
        "\n",
        "filterCountry = 'Cyprus'\n",
        "\n",
        "filterCountry = (data['Country'] == filterCountry)\n",
        "\n",
        "data = data[filterCountry]\n",
        "\n",
        "\n",
        "\n",
        "gdp = data['GDP']\n",
        "\n",
        "population = data['Population']\n",
        "\n",
        "print(\"GDP:\\n\",gdp)\n",
        "gdpPerCapita = gdp/population\n",
        "data['GDPperCapita'] = gdpPerCapita\n",
        "#print(\"GDP per Capita:\\n\",gdpPerCapita)\n",
        "#newData = gdpPerCapita.tolist()\n",
        "lifeExpectancy = funcPredict(b0,b1,gdpPerCapita)\n",
        "\n",
        "data['LifeExpectancy'] = lifeExpectancy\n",
        "\n",
        "#print(\"LifeExpectancy:\\n\",lifeExpectancy)\n",
        "\n",
        "\n",
        "#data = data[]\n",
        "\n",
        "###\n",
        "\n",
        "\n",
        "\n",
        "\n",
        "\n",
        "\n",
        "\n"
      ],
      "metadata": {
        "id": "ewRs1F8mGAsF",
        "colab": {
          "base_uri": "https://localhost:8080/"
        },
        "outputId": "8f55f20f-8e4a-4d0d-a506-8e5fc7f3c769"
      },
      "execution_count": 49,
      "outputs": [
        {
          "output_type": "stream",
          "name": "stdout",
          "text": [
            "Index(['Country', 'Year', 'Status', 'Life expectancy ', 'Adult Mortality',\n",
            "       'infant deaths', 'Alcohol', 'percentage expenditure', 'Hepatitis B',\n",
            "       'Measles ', ' BMI ', 'under-five deaths ', 'Polio', 'Total expenditure',\n",
            "       'Diphtheria ', ' HIV/AIDS', 'GDP', 'Population',\n",
            "       ' thinness  1-19 years', ' thinness 5-9 years',\n",
            "       'Income composition of resources', 'Schooling'],\n",
            "      dtype='object')\n",
            "GDP:\n",
            " 673     2375.11270\n",
            "674     2734.88382\n",
            "675     2797.96736\n",
            "676    28951.15556\n",
            "677    32233.83942\n",
            "678     3818.46396\n",
            "679     3215.81590\n",
            "680     3539.74880\n",
            "681    31386.63265\n",
            "682    27169.99256\n",
            "683    25324.48666\n",
            "684    23932.49128\n",
            "685     2293.47890\n",
            "686    16372.29152\n",
            "687     1562.92433\n",
            "688    14672.88260\n",
            "Name: GDP, dtype: float64\n"
          ]
        }
      ]
    },
    {
      "cell_type": "code",
      "source": [
        "#data.describe\n",
        "\n",
        "\n",
        "#data[\"GDP Per Capita\"] = gdpPerCapita\n",
        "\n",
        "#data.corr()[\"GDP Per Capita\"]\n",
        "\n",
        "\n",
        "\n"
      ],
      "metadata": {
        "id": "0F25YbfVJgOR"
      },
      "execution_count": 50,
      "outputs": []
    },
    {
      "cell_type": "code",
      "source": [
        "plt.style.use('seaborn-whitegrid')\n",
        "#plt.style.use('seaborn-whitegrid')\n",
        "plt.scatter(\"GDP Per Capita \",\"percentage expenditure\",marker='o')\n",
        "#plt.xlim(0.0,0.0002)\n",
        "\n",
        "\n",
        "plt.xlabel('GDP Per Capita')\n",
        "plt.ylabel('Life Satisfaction')\n",
        "#plt.xticks([10000,2000,3000,40000,50000,60000])\n",
        "\n",
        "plt.title('Assignment 1 Plot')\n",
        "\n",
        "plt.show()\n",
        "\n",
        "\n"
      ],
      "metadata": {
        "colab": {
          "base_uri": "https://localhost:8080/",
          "height": 291
        },
        "id": "2w658kCimjh3",
        "outputId": "5a05ca05-3aee-4a33-8742-6b616f176da8"
      },
      "execution_count": 51,
      "outputs": [
        {
          "output_type": "display_data",
          "data": {
            "image/png": "[encoded data removed]",
            "text/plain": [
              "<Figure size 432x288 with 1 Axes>"
            ]
          },
          "metadata": {}
        }
      ]
    }
  ]
}